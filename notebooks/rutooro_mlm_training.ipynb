{
 "cells": [
  {
   "cell_type": "markdown",
   "id": "959d0e5a",
   "metadata": {},
   "source": [
    "# Rutooro NLLB-200 MLM Training\n",
    "This notebook runs the data preparation and training pipeline on Google Colab."
   ]
  },
  {
   "cell_type": "code",
   "execution_count": null,
   "id": "f15ff1ab",
   "metadata": {},
   "outputs": [],
   "source": [
    "!pip install -q -r requirements.txt"
   ]
  },
  {
   "cell_type": "code",
   "execution_count": null,
   "id": "5c8a3a4b",
   "metadata": {},
   "outputs": [],
   "source": [
    "from google.colab import drive\n",
    "drive.mount(\"/content/drive\")"
   ]
  },
  {
   "cell_type": "code",
   "execution_count": null,
   "id": "dbc9a99f",
   "metadata": {},
   "outputs": [],
   "source": [
    "from pathlib import Path\n",
    "\n",
    "# Customize these paths as needed\n",
    "RAW_DATA_DIR = Path(\"/content/drive/MyDrive/rutooro-mlm/data/raw\")\n",
    "PROCESSED_DATA_DIR = Path(\"/content/drive/MyDrive/rutooro-mlm/data/processed\")\n",
    "DATASETS_DIR = Path(\"/content/drive/MyDrive/rutooro-mlm/data/datasets\")\n",
    "MODEL_DIR = Path(\"/content/drive/MyDrive/rutooro-mlm/models/nllb_rutooro_finetuned\")\n",
    "\n",
    "for p in [RAW_DATA_DIR, PROCESSED_DATA_DIR, DATASETS_DIR, MODEL_DIR]:\n",
    "    p.mkdir(parents=True, exist_ok=True)"
   ]
  },
  {
   "cell_type": "code",
   "execution_count": null,
   "id": "9d5b8c4f",
   "metadata": {},
   "outputs": [],
   "source": [
    "from scripts.clean_and_split import clean_and_split\n",
    "from scripts.create_dataset import create_dataset\n",
    "from scripts.train_nllb import train\n",
    "\n",
    "cleaned_file = PROCESSED_DATA_DIR / \"cleaned_sentences.txt\"\n",
    "clean_and_split(RAW_DATA_DIR, PROCESSED_DATA_DIR, cleaned_file)\n",
    "create_dataset(cleaned_file, DATASETS_DIR)\n",
    "train(DATASETS_DIR, \"facebook/nllb-200-distilled-600M\", MODEL_DIR)"
   ]
  }
 ],
 "metadata": {},
 "nbformat": 4,
 "nbformat_minor": 5
}
